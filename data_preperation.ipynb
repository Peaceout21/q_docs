{
 "cells": [
  {
   "cell_type": "code",
   "execution_count": 1,
   "metadata": {},
   "outputs": [],
   "source": [
    "import pandas as pd"
   ]
  },
  {
   "cell_type": "code",
   "execution_count": 2,
   "metadata": {},
   "outputs": [
    {
     "name": "stderr",
     "output_type": "stream",
     "text": [
      "C:\\anaconda\\lib\\site-packages\\IPython\\core\\interactiveshell.py:2785: DtypeWarning: Columns (14,16,17,19,35,36) have mixed types. Specify dtype option on import or set low_memory=False.\n",
      "  interactivity=interactivity, compiler=compiler, result=result)\n"
     ]
    },
    {
     "data": {
      "text/plain": [
       "['Ag_Num',\n",
       " 'Year_Month',\n",
       " 'Year_Qtr',\n",
       " 'Year',\n",
       " 'Month',\n",
       " 'AG_Active_Ind',\n",
       " 'AG_API',\n",
       " 'AG_Policy_Count',\n",
       " 'AG_Tenure',\n",
       " 'AS_Level',\n",
       " 'AG_Unit',\n",
       " 'AG_Appointed_Year_Month',\n",
       " 'AG_Appointed_Date',\n",
       " 'AG_Terminated_Date',\n",
       " 'AG_Sales_Zone',\n",
       " 'AG_GA_Code',\n",
       " 'AG_Main_GA_Code',\n",
       " 'AG_Main_GA',\n",
       " 'AG_GA_dump',\n",
       " 'AG_Province_Code',\n",
       " 'AG_Category',\n",
       " 'AG_Channel_Grp',\n",
       " 'Ag_12M_Recency',\n",
       " 'Ag_L3M_Active',\n",
       " 'Ag_L6M_Active',\n",
       " 'Ag_L12M_Active',\n",
       " 'Ag_Mth_Count',\n",
       " 'Ag_Cumul_Active',\n",
       " 'Ag_Rein_Count',\n",
       " 'Ag_f6m_Active',\n",
       " 'Ag_f12m_Active',\n",
       " 'Ag_12M_ExpRecency',\n",
       " 'Ag_ExpTenure',\n",
       " 'Ag_L12M_ExpActive',\n",
       " 'Ag_L6M_ExpActive',\n",
       " 'AG_GAdump_segment',\n",
       " 'AG_MainGAdump',\n",
       " 'AG_Province_Name',\n",
       " 'AG_Region',\n",
       " 'AG_SubRegion',\n",
       " 'Ag_Prov_Latitude',\n",
       " 'Ag_Prov_Longitude',\n",
       " 'Ag_Region_Tier',\n",
       " 'Ag_SAS_SubRegion',\n",
       " 'Ag_Reg_Latitude',\n",
       " 'Ag_Reg_Longitude',\n",
       " 'CLNTNUM',\n",
       " 'AG_Gender_Grp',\n",
       " 'AG_Education',\n",
       " 'AG_Marital_Status_Grp',\n",
       " 'AG_DOB',\n",
       " 'AG_Age_Join',\n",
       " 'AG_Age_Join_Grp',\n",
       " 'AG_Occupation_Code',\n",
       " 'Ag_Occupation_Grp']"
      ]
     },
     "execution_count": 2,
     "metadata": {},
     "output_type": "execute_result"
    }
   ],
   "source": [
    "df1 = pd.read_csv(\"1.csv\",encoding='latin1')\n",
    "df2 = pd.read_csv(\"2.csv\",encoding='latin1')\n",
    "df3 = pd.read_csv(\"3.csv\",encoding='latin1')\n",
    "df = pd.concat([df1,df2,df3])\n",
    "#df = df.drop_duplicates(subset='Ag_Num', keep='last', inplace=False)\n",
    "list(df)"
   ]
  },
  {
   "cell_type": "code",
   "execution_count": 10,
   "metadata": {},
   "outputs": [
    {
     "data": {
      "text/plain": [
       "SA              1540174\n",
       "13mth+           566054\n",
       "4-6mth           301980\n",
       "1-3mth           289147\n",
       "New Recruits     179839\n",
       "7-12mth          154253\n",
       "Gold              55607\n",
       "Platinum          23712\n",
       "Diamond           16520\n",
       "Name: AG_Category, dtype: int64"
      ]
     },
     "execution_count": 10,
     "metadata": {},
     "output_type": "execute_result"
    }
   ],
   "source": [
    "df = pd.concat([df1,df2,df3])\n",
    "df = df.drop_duplicates(['Ag_Num','Year_Qtr','AG_Category'],keep= 'last')\n",
    "df['AG_Category'].value_counts()"
   ]
  },
  {
   "cell_type": "code",
   "execution_count": 52,
   "metadata": {},
   "outputs": [],
   "source": [
    "df.drop(['Year_Month','Year','Month','AG_Appointed_Year_Month','AG_Appointed_Date','AG_Terminated_Date','AG_Occupation_Code',\n",
    "'AG_DOB',\n",
    " 'AG_Age_Join','AG_Region',\n",
    " 'CLNTNUM',\n",
    " 'Ag_ExpTenure',\n",
    " 'Ag_L12M_ExpActive',\n",
    " 'Ag_L6M_ExpActive'], axis=1, inplace=True)\n",
    "\n",
    "df.to_csv('master.csv')"
   ]
  },
  {
   "cell_type": "code",
   "execution_count": null,
   "metadata": {},
   "outputs": [],
   "source": [
    "#df[df.select_dtypes(['object']).columns] = df.select_dtypes(['object']).apply(lambda x: x.astype('category'))\n"
   ]
  },
  {
   "cell_type": "code",
   "execution_count": 11,
   "metadata": {},
   "outputs": [],
   "source": [
    "df_SA = df[df.AG_Category == 'SA']\n",
    "df_13mth = df[df.AG_Category == '13mth+']\n",
    "df_4mth = df[df.AG_Category == '4-6mth']\n",
    "df_1mth = df[df.AG_Category == '1-3mth']\n",
    "df_7mth = df[df.AG_Category == '7-12mth']\n",
    "df_NewRecruits = df[df.AG_Category == 'New Recruits']\n",
    "df_Gold = df[df.AG_Category == 'Gold']\n",
    "df_Platinum = df[df.AG_Category == 'Platinum']\n",
    "df_Diamond = df[df.AG_Category == 'Diamond']"
   ]
  },
  {
   "cell_type": "code",
   "execution_count": 12,
   "metadata": {},
   "outputs": [],
   "source": [
    "df_rookies = pd.concat([df_13mth,df_4mth,df_1mth,df_7mth,df_NewRecruits])"
   ]
  },
  {
   "cell_type": "code",
   "execution_count": 13,
   "metadata": {},
   "outputs": [],
   "source": [
    "df_pe = pd.concat([df_Gold,df_Platinum,df_Diamond])"
   ]
  },
  {
   "cell_type": "code",
   "execution_count": 32,
   "metadata": {},
   "outputs": [
    {
     "data": {
      "text/plain": [
       "(95839, 32)"
      ]
     },
     "execution_count": 32,
     "metadata": {},
     "output_type": "execute_result"
    }
   ],
   "source": [
    "df_pe.shape"
   ]
  },
  {
   "cell_type": "code",
   "execution_count": 33,
   "metadata": {},
   "outputs": [
    {
     "data": {
      "text/plain": [
       "(1491273, 32)"
      ]
     },
     "execution_count": 33,
     "metadata": {},
     "output_type": "execute_result"
    }
   ],
   "source": [
    "df_rookies.shape"
   ]
  },
  {
   "cell_type": "code",
   "execution_count": 14,
   "metadata": {},
   "outputs": [],
   "source": [
    "df_pe['target'] = 1"
   ]
  },
  {
   "cell_type": "code",
   "execution_count": 15,
   "metadata": {},
   "outputs": [],
   "source": [
    "df_rookies['target'] = 0"
   ]
  },
  {
   "cell_type": "code",
   "execution_count": 16,
   "metadata": {},
   "outputs": [],
   "source": [
    "df_master = pd.concat([df_pe,df_rookies])"
   ]
  },
  {
   "cell_type": "code",
   "execution_count": 59,
   "metadata": {},
   "outputs": [],
   "source": [
    "list(df_master)\n",
    "del df_master['Ag_Num']\n",
    "del df_master['AG_Category']\n"
   ]
  },
  {
   "cell_type": "code",
   "execution_count": 17,
   "metadata": {},
   "outputs": [],
   "source": [
    "df_master.to_csv('df_master.csv')"
   ]
  },
  {
   "cell_type": "code",
   "execution_count": 8,
   "metadata": {},
   "outputs": [
    {
     "data": {
      "text/html": [
       "<div>\n",
       "<style scoped>\n",
       "    .dataframe tbody tr th:only-of-type {\n",
       "        vertical-align: middle;\n",
       "    }\n",
       "\n",
       "    .dataframe tbody tr th {\n",
       "        vertical-align: top;\n",
       "    }\n",
       "\n",
       "    .dataframe thead th {\n",
       "        text-align: right;\n",
       "    }\n",
       "</style>\n",
       "<table border=\"1\" class=\"dataframe\">\n",
       "  <thead>\n",
       "    <tr style=\"text-align: right;\">\n",
       "      <th></th>\n",
       "      <th>Ag_Num</th>\n",
       "      <th>Year_Month</th>\n",
       "      <th>Year_Qtr</th>\n",
       "      <th>Year</th>\n",
       "      <th>Month</th>\n",
       "      <th>AG_Active_Ind</th>\n",
       "      <th>AG_API</th>\n",
       "      <th>AG_Policy_Count</th>\n",
       "      <th>AG_Tenure</th>\n",
       "      <th>AS_Level</th>\n",
       "      <th>...</th>\n",
       "      <th>Ag_Reg_Longitude</th>\n",
       "      <th>CLNTNUM</th>\n",
       "      <th>AG_Gender_Grp</th>\n",
       "      <th>AG_Education</th>\n",
       "      <th>AG_Marital_Status_Grp</th>\n",
       "      <th>AG_DOB</th>\n",
       "      <th>AG_Age_Join</th>\n",
       "      <th>AG_Age_Join_Grp</th>\n",
       "      <th>AG_Occupation_Code</th>\n",
       "      <th>Ag_Occupation_Grp</th>\n",
       "    </tr>\n",
       "  </thead>\n",
       "  <tbody>\n",
       "    <tr>\n",
       "      <th>0</th>\n",
       "      <td>11111111</td>\n",
       "      <td>20170131</td>\n",
       "      <td>2017Q1</td>\n",
       "      <td>2017</td>\n",
       "      <td>1</td>\n",
       "      <td>0</td>\n",
       "      <td>0</td>\n",
       "      <td>0.0</td>\n",
       "      <td>3.67</td>\n",
       "      <td>AG</td>\n",
       "      <td>...</td>\n",
       "      <td>106.700883</td>\n",
       "      <td>91744488</td>\n",
       "      <td>Female</td>\n",
       "      <td>Secondary school</td>\n",
       "      <td>Married</td>\n",
       "      <td>19890101.0</td>\n",
       "      <td>27.0</td>\n",
       "      <td>02.21-30</td>\n",
       "      <td>2285.0</td>\n",
       "      <td>Undeclared</td>\n",
       "    </tr>\n",
       "    <tr>\n",
       "      <th>2</th>\n",
       "      <td>11111111</td>\n",
       "      <td>20170331</td>\n",
       "      <td>2017Q1</td>\n",
       "      <td>2017</td>\n",
       "      <td>3</td>\n",
       "      <td>1</td>\n",
       "      <td>36352700</td>\n",
       "      <td>8.0</td>\n",
       "      <td>5.63</td>\n",
       "      <td>AG</td>\n",
       "      <td>...</td>\n",
       "      <td>106.700883</td>\n",
       "      <td>91744488</td>\n",
       "      <td>Female</td>\n",
       "      <td>Secondary school</td>\n",
       "      <td>Married</td>\n",
       "      <td>19890101.0</td>\n",
       "      <td>27.0</td>\n",
       "      <td>02.21-30</td>\n",
       "      <td>2285.0</td>\n",
       "      <td>Undeclared</td>\n",
       "    </tr>\n",
       "    <tr>\n",
       "      <th>3</th>\n",
       "      <td>11111111</td>\n",
       "      <td>20170430</td>\n",
       "      <td>2017Q2</td>\n",
       "      <td>2017</td>\n",
       "      <td>4</td>\n",
       "      <td>0</td>\n",
       "      <td>-18200000</td>\n",
       "      <td>-2.0</td>\n",
       "      <td>6.60</td>\n",
       "      <td>AG</td>\n",
       "      <td>...</td>\n",
       "      <td>106.700883</td>\n",
       "      <td>91744488</td>\n",
       "      <td>Female</td>\n",
       "      <td>Secondary school</td>\n",
       "      <td>Married</td>\n",
       "      <td>19890101.0</td>\n",
       "      <td>27.0</td>\n",
       "      <td>02.21-30</td>\n",
       "      <td>2285.0</td>\n",
       "      <td>Undeclared</td>\n",
       "    </tr>\n",
       "    <tr>\n",
       "      <th>5</th>\n",
       "      <td>11111111</td>\n",
       "      <td>20170630</td>\n",
       "      <td>2017Q2</td>\n",
       "      <td>2017</td>\n",
       "      <td>6</td>\n",
       "      <td>1</td>\n",
       "      <td>3615500</td>\n",
       "      <td>2.0</td>\n",
       "      <td>8.67</td>\n",
       "      <td>AG</td>\n",
       "      <td>...</td>\n",
       "      <td>106.700883</td>\n",
       "      <td>91744488</td>\n",
       "      <td>Female</td>\n",
       "      <td>Secondary school</td>\n",
       "      <td>Married</td>\n",
       "      <td>19890101.0</td>\n",
       "      <td>27.0</td>\n",
       "      <td>02.21-30</td>\n",
       "      <td>2285.0</td>\n",
       "      <td>Undeclared</td>\n",
       "    </tr>\n",
       "    <tr>\n",
       "      <th>8</th>\n",
       "      <td>11111111</td>\n",
       "      <td>20170930</td>\n",
       "      <td>2017Q3</td>\n",
       "      <td>2017</td>\n",
       "      <td>9</td>\n",
       "      <td>0</td>\n",
       "      <td>0</td>\n",
       "      <td>0.0</td>\n",
       "      <td>11.73</td>\n",
       "      <td>AG</td>\n",
       "      <td>...</td>\n",
       "      <td>106.700883</td>\n",
       "      <td>91744488</td>\n",
       "      <td>Female</td>\n",
       "      <td>Secondary school</td>\n",
       "      <td>Married</td>\n",
       "      <td>19890101.0</td>\n",
       "      <td>27.0</td>\n",
       "      <td>02.21-30</td>\n",
       "      <td>2285.0</td>\n",
       "      <td>Undeclared</td>\n",
       "    </tr>\n",
       "  </tbody>\n",
       "</table>\n",
       "<p>5 rows × 55 columns</p>\n",
       "</div>"
      ],
      "text/plain": [
       "     Ag_Num  Year_Month Year_Qtr  Year  Month  AG_Active_Ind    AG_API  \\\n",
       "0  11111111    20170131   2017Q1  2017      1              0         0   \n",
       "2  11111111    20170331   2017Q1  2017      3              1  36352700   \n",
       "3  11111111    20170430   2017Q2  2017      4              0 -18200000   \n",
       "5  11111111    20170630   2017Q2  2017      6              1   3615500   \n",
       "8  11111111    20170930   2017Q3  2017      9              0         0   \n",
       "\n",
       "   AG_Policy_Count  AG_Tenure AS_Level        ...        Ag_Reg_Longitude  \\\n",
       "0              0.0       3.67       AG        ...              106.700883   \n",
       "2              8.0       5.63       AG        ...              106.700883   \n",
       "3             -2.0       6.60       AG        ...              106.700883   \n",
       "5              2.0       8.67       AG        ...              106.700883   \n",
       "8              0.0      11.73       AG        ...              106.700883   \n",
       "\n",
       "    CLNTNUM AG_Gender_Grp      AG_Education AG_Marital_Status_Grp      AG_DOB  \\\n",
       "0  91744488        Female  Secondary school               Married  19890101.0   \n",
       "2  91744488        Female  Secondary school               Married  19890101.0   \n",
       "3  91744488        Female  Secondary school               Married  19890101.0   \n",
       "5  91744488        Female  Secondary school               Married  19890101.0   \n",
       "8  91744488        Female  Secondary school               Married  19890101.0   \n",
       "\n",
       "  AG_Age_Join AG_Age_Join_Grp AG_Occupation_Code Ag_Occupation_Grp  \n",
       "0        27.0        02.21-30             2285.0        Undeclared  \n",
       "2        27.0        02.21-30             2285.0        Undeclared  \n",
       "3        27.0        02.21-30             2285.0        Undeclared  \n",
       "5        27.0        02.21-30             2285.0        Undeclared  \n",
       "8        27.0        02.21-30             2285.0        Undeclared  \n",
       "\n",
       "[5 rows x 55 columns]"
      ]
     },
     "execution_count": 8,
     "metadata": {},
     "output_type": "execute_result"
    }
   ],
   "source": [
    "df.head()"
   ]
  },
  {
   "cell_type": "code",
   "execution_count": 9,
   "metadata": {},
   "outputs": [
    {
     "data": {
      "text/plain": [
       "SA              1540174\n",
       "13mth+           566054\n",
       "4-6mth           301980\n",
       "1-3mth           289147\n",
       "New Recruits     179839\n",
       "7-12mth          154253\n",
       "Gold              55607\n",
       "Platinum          23712\n",
       "Diamond           16520\n",
       "Name: AG_Category, dtype: int64"
      ]
     },
     "execution_count": 9,
     "metadata": {},
     "output_type": "execute_result"
    }
   ],
   "source": [
    "df['AG_Category'].value_counts()"
   ]
  },
  {
   "cell_type": "code",
   "execution_count": null,
   "metadata": {},
   "outputs": [],
   "source": []
  }
 ],
 "metadata": {
  "kernelspec": {
   "display_name": "Python 3 Spark - local",
   "language": "python",
   "name": "pyspark3"
  },
  "language_info": {
   "codemirror_mode": {
    "name": "ipython",
    "version": 3
   },
   "file_extension": ".py",
   "mimetype": "text/x-python",
   "name": "python",
   "nbconvert_exporter": "python",
   "pygments_lexer": "ipython3",
   "version": "3.6.5"
  }
 },
 "nbformat": 4,
 "nbformat_minor": 2
}
